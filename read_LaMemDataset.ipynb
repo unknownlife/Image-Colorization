{
 "cells": [
  {
   "cell_type": "code",
   "execution_count": 1,
   "metadata": {},
   "outputs": [],
   "source": [
    "import numpy as np\n",
    "import os\n",
    "import random\n",
    "from six.moves import cPickle as pickle\n",
    "from tensorflow.python.platform import gfile\n",
    "import glob\n",
    "\n",
    "import TensorflowUtils as utils\n",
    "\n",
    "DATA_URL = '/home/shikhar/Desktop/full run/abc.tar'\n",
    "\n",
    "\n",
    "def read_dataset(data_dir):\n",
    "    pickle_filename = \"lamem.pickle\"\n",
    "    pickle_filepath = os.path.join(data_dir, pickle_filename)\n",
    "    if not os.path.exists(pickle_filepath):\n",
    "        utils.maybe_download_and_extract(data_dir, DATA_URL, is_tarfile=True)\n",
    "        lamem_folder = (DATA_URL.split(\"/\")[-1]).split(os.path.extsep)[0]\n",
    "        result = {'images': create_image_lists(os.path.join(data_dir, lamem_folder))}\n",
    "        print (\"Pickling ...\")\n",
    "        with open(pickle_filepath, 'wb') as f:\n",
    "            pickle.dump(result, f, pickle.HIGHEST_PROTOCOL)\n",
    "    else:\n",
    "        print (\"Found pickle file!\")\n",
    "\n",
    "    with open(pickle_filepath, 'rb') as f:\n",
    "        result = pickle.load(f)\n",
    "        training_records = result['images']\n",
    "        del result\n",
    "\n",
    "    return training_records\n",
    "\n",
    "\n",
    "def create_image_lists(image_dir):\n",
    "    if not gfile.Exists(image_dir):\n",
    "        print(\"Image directory '\" + image_dir + \"' not found.\")\n",
    "        return None\n",
    "    image_list = []\n",
    "\n",
    "    file_list = []\n",
    "    file_glob = os.path.join(image_dir, \"images\", '*.' + 'jpg')\n",
    "    file_list.extend(glob.glob(file_glob))\n",
    "\n",
    "    if not file_list:\n",
    "        print('No files found')\n",
    "    else:\n",
    "        image_list = file_list\n",
    "\n",
    "    random.shuffle(image_list)\n",
    "    no_of_images = len(image_list)\n",
    "    print ('No. of Image files: %d' % no_of_images)\n",
    "\n",
    "    return image_list\n"
   ]
  }
 ],
 "metadata": {
  "kernelspec": {
   "display_name": "Python 3",
   "language": "python",
   "name": "python3"
  },
  "language_info": {
   "codemirror_mode": {
    "name": "ipython",
    "version": 3
   },
   "file_extension": ".py",
   "mimetype": "text/x-python",
   "name": "python",
   "nbconvert_exporter": "python",
   "pygments_lexer": "ipython3",
   "version": "3.5.2"
  }
 },
 "nbformat": 4,
 "nbformat_minor": 2
}
